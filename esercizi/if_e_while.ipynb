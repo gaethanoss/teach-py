{
  "cells": [
    {
      "cell_type": "markdown",
      "metadata": {
        "id": "HB3XbPDcSqe1"
      },
      "source": [
        "# Esercizi IF"
      ]
    },
    {
      "cell_type": "code",
      "execution_count": null,
      "metadata": {
        "id": "0U7L9A29RfeT"
      },
      "outputs": [],
      "source": [
        "# Es 4.1: Ottenere dall'utente un numero in input e scrivere a schermo \"Pari\" se il numero è pari, scrivere \"Dispari\" altrimenti\n",
        "x = int(input())   \n",
        "if(x%2==0):\n",
        "    print(\"Pari\")\n",
        "else:\n",
        "    print(\"Dispari\")   "
      ]
    },
    {
      "cell_type": "code",
      "execution_count": null,
      "metadata": {
        "id": "gE3RVr9ORuwP"
      },
      "outputs": [],
      "source": [
        "# Es 4.2: Ottenere dall'utente tre angoli caso siano i tre angoli di un triangolo scrivere a schermo \"È un triangolo\", altrimenti \"Non è un triangolo\"\n",
        "x= float(input(\"inserisci il primo angolo \"))\n",
        "y= float(input())\n",
        "z= float(input())\n",
        "if x + y + z == 180 and x>0 and y>0 and z>0:\n",
        "    print(\"E' un triangolo\")\n",
        "else:\n",
        "    print(\"Non è un triangolo\")\n"
      ]
    },
    {
      "cell_type": "code",
      "execution_count": null,
      "metadata": {
        "id": "r1A_DavcSKgi"
      },
      "outputs": [],
      "source": [
        "# Es 4.3: Ottenuti dall'utente tre angoli di un tringolo scrivere a schermo se i tre angoli descrivono un triangolo rettangolo o no\n",
        "x = float(input())\n",
        "y = float(input())\n",
        "z = float(input())\n",
        "if x + y + z == 180 and x>0 and y>0 and z>0:\n",
        "    if x == 90 or y == 90 or z == 90:\n",
        "        print(\"E' un triangolo rettangolo\")\n",
        "    else: \n",
        "        print(\"E' un  triangolo NON rettangolo\")\n",
        "else:  \n",
        "    print(\"NON è un triangolo\")"
      ]
    },
    {
      "cell_type": "code",
      "execution_count": null,
      "metadata": {
        "id": "iA9D4X_GSims"
      },
      "outputs": [],
      "source": [
        "# Es 4.4: Ottenuti dall'utente tre angoli di un tringolo scrivere a schermo se i tre angoli descrivono un triangolo equilatero o no\n",
        "x = float(input())\n",
        "y = float(input())\n",
        "z = float(input())\n",
        "if x + y + z == 180 and x>0 and y>0 and z>0:\n",
        "    if x==60 and y==60 and z==60:\n",
        "        print(\"E' un triangolo equilatero\")\n",
        "    else:\n",
        "        print(\"E' un triangolo NON equilatero\")\n",
        "else:\n",
        "    print(\"NON è un triangolo\")"
      ]
    },
    {
      "cell_type": "code",
      "execution_count": null,
      "metadata": {
        "id": "8q4gadoTSU7J"
      },
      "outputs": [],
      "source": [
        "# Es 4.5: Ottenuti dall'utente tre angoli di un tringolo scrivere a schermo se i tre angoli descrivono un triangolo isocele o no\n",
        "x = float(input())\n",
        "y = float(input())\n",
        "z = float(input())\n",
        "if x + y + z == 180 and x>0 and y>0 and z>0:\n",
        "    if x==y or y==z or x==z:\n",
        "        print(\"E' un triangolo isocele\")\n",
        "    else:\n",
        "        print(\"E'un triangolo NON isosciele\")\n",
        "else:\n",
        "    print(\"NON è un triangolo\")"
      ]
    },
    {
      "cell_type": "code",
      "execution_count": null,
      "metadata": {
        "id": "yVIE2kK3SYlq"
      },
      "outputs": [],
      "source": [
        "# Es 4.6: Ottenuti dall'utente tre angoli di un tringolo scrivere a schermo se i tre angoli descrivono un triangolo isocele, rettagolo, equilatero o scaleno\n",
        "x = float(input())\n",
        "y = float(input())\n",
        "z = float(input())\n",
        "if x + y + z == 180 and x>0 and y>0 and z>0:\n",
        "    if x == 90 or y == 90 or z == 90:\n",
        "        print(\"E' un triangolo rettangolo\")\n",
        "    else: \n",
        "        if x==60 and y==60 and z==60:\n",
        "            print(\"E' un triangolo equilatero\")\n",
        "        else:\n",
        "            if x==y or y==z or x==z:\n",
        "                print(\"E' un triangolo isocele\")\n",
        "            else:\n",
        "                print(\"E' un triangolo scaleno\")\n",
        "else:\n",
        "    print(\"Non è un triangolo\")"
      ]
    },
    {
      "cell_type": "markdown",
      "metadata": {
        "id": "ef5snVxLqeQh"
      },
      "source": [
        "# Esercizi WHILE\n"
      ]
    },
    {
      "cell_type": "code",
      "execution_count": null,
      "metadata": {
        "id": "j61RqiHxqdmh"
      },
      "outputs": [],
      "source": [
        "# Es 4.7: Creare una funzione print_n(n,v) che stampi n volte il. contenuto di v\n",
        "def print_n(n,v):\n",
        "    x=1\n",
        "    while x<=n:\n",
        "        print(v)\n",
        "        x+=1\n",
        "    \n",
        "n = int(input())\n",
        "v = str(input())\n",
        "\n",
        "print(print_n(n,v))\n"
      ]
    },
    {
      "cell_type": "code",
      "execution_count": null,
      "metadata": {
        "colab": {
          "base_uri": "https://localhost:8080/"
        },
        "id": "-6lAm-hfq9w9",
        "outputId": "399e82ba-3cfe-475f-f8df-0e156677ec75"
      },
      "outputs": [],
      "source": [
        "# Es 4.8: Inserito il numero n dire per quali numeri, compresi tra 1 e n, è divisibile.\n",
        "# Inserisco 10: stampo 1,2,5\n",
        "# Inserisco 7: stampo 1\n",
        "def div(n):\n",
        "    x=1\n",
        "    while x<=n:\n",
        "        if n%x==0:\n",
        "            print(x)\n",
        "        x+=1\n",
        "\n",
        "n = int(input())\n",
        "print(div(n))"
      ]
    },
    {
      "cell_type": "code",
      "execution_count": null,
      "metadata": {
        "colab": {
          "base_uri": "https://localhost:8080/"
        },
        "id": "GjC4LdR7rP-b",
        "outputId": "9f539b4d-c307-479a-da13-610a7e1cc46e"
      },
      "outputs": [],
      "source": [
        "# Es 4.9: Inserito il numero n dire se è primo o no\n",
        "n = int(input())\n",
        "x=1\n",
        "kevin_levrone=0\n",
        "while x<=n:\n",
        "    if n%x==0:\n",
        "        kevin_levrone=kevin_levrone+x\n",
        "        print(x)\n",
        "    x=x+1\n",
        "if kevin_levrone==n+1 or kevin_levrone==1:\n",
        "    print(\"Il numero è primo\")\n",
        "else:\n",
        "    print(\"Il numero non è primo\")"
      ]
    },
    {
      "cell_type": "code",
      "execution_count": null,
      "metadata": {
        "colab": {
          "base_uri": "https://localhost:8080/"
        },
        "id": "CxtWnOdHsTv4",
        "outputId": "5d874410-cb07-46a2-9c22-83d541b7a91a"
      },
      "outputs": [],
      "source": [
        "# Es 4.10: Creare la funzione moltiplica che restituisce il prodotto tra due numeri senza utilizzare *\n",
        "# 3*4 è uguale a 4+4+4\n",
        "def moltiplica(a,b):\n",
        "    kevin=0 \n",
        "    somma=0\n",
        "    while kevin<b:\n",
        "        somma=somma+a\n",
        "        kevin=kevin+1\n",
        "    print(somma)\n",
        "a = int(input())\n",
        "b = int(input())\n",
        "moltiplica(a,b)"
      ]
    }
  ],
  "metadata": {
    "colab": {
      "provenance": []
    },
    "kernelspec": {
      "display_name": "Python 3",
      "name": "python3"
    },
    "language_info": {
      "name": "python"
    }
  },
  "nbformat": 4,
  "nbformat_minor": 0
}
